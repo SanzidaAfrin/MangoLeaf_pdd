{
 "cells": [
  {
   "cell_type": "code",
   "execution_count": null,
   "id": "3efad5d7-39f2-488e-b577-867bbab4a6ca",
   "metadata": {},
   "outputs": [],
   "source": [
    "import tensorflow as tf\n",
    "import numpy as np\n",
    "import pandas as pd\n",
    "import seaborn as sns\n",
    "import cv2\n",
    "import os\n",
    "import random\n",
    "import seaborn\n",
    "import keras\n",
    "import matplotlib.pyplot as plt\n",
    "from sklearn.model_selection import train_test_split\n",
    "from sklearn import metrics\n",
    "from sklearn.metrics import confusion_matrix\n",
    "from tensorflow.keras.models import Model,save_model,load_model\n",
    "from tensorflow.keras.optimizers import Adam\n",
    "from tensorflow.keras.layers import Dense,GlobalAveragePooling2D, BatchNormalization,Dropout\n",
    "from tensorflow.keras.applications import VGG19\n",
    "from tensorflow.keras.preprocessing.image import ImageDataGenerator\n",
    "\n",
    "from keras.layers import *\n",
    "from keras.models import *\n",
    "from keras.preprocessing import image\n",
    "import matplotlib.image as mpimg\n",
    "from keras.applications.vgg19 import VGG19\n",
    "import tensorflow as tf\n",
    "from tensorflow.keras.optimizers import RMSprop"
   ]
  },
  {
   "cell_type": "code",
   "execution_count": null,
   "id": "cb159504-8f41-4a21-83f9-d4526546d2bc",
   "metadata": {},
   "outputs": [],
   "source": [
    "    train_datagen=ImageDataGenerator(\n",
    "        rescale=1./255,\n",
    "        rotation_range=20,\n",
    "        width_shift_range=0.2,\n",
    "        height_shift_range=0.2,\n",
    "        shear_range=0.2,\n",
    "        zoom_range=0.2,\n",
    "        horizontal_flip=True\n",
    "    )\n",
    "    train_generator=train_datagen.flow_from_directory(\n",
    "        'train',\n",
    "        target_size=(128,128),\n",
    "        batch_size=32,\n",
    "        class_mode='categorical',\n",
    "        shuffle=True\n",
    "    )"
   ]
  },
  {
   "cell_type": "code",
   "execution_count": null,
   "id": "b20a0cc5-891a-4659-ba6c-32d1a1c8a4b7",
   "metadata": {},
   "outputs": [],
   "source": [
    "    validation_datagen=ImageDataGenerator(rescale=1./255)\n",
    "    validation_generator = validation_datagen.flow_from_directory(\n",
    "        'valid',\n",
    "        target_size=(128,128),\n",
    "        batch_size=32,\n",
    "        class_mode='categorical'\n",
    "    )"
   ]
  },
  {
   "cell_type": "code",
   "execution_count": null,
   "id": "b4daeadc-1c66-45c1-a639-e62dcce8f9aa",
   "metadata": {},
   "outputs": [],
   "source": [
    "    test_datagen=ImageDataGenerator(rescale=1./255)\n",
    "    test_generator = test_datagen.flow_from_directory(\n",
    "        'test',\n",
    "        target_size=(128,128),\n",
    "        batch_size=32,\n",
    "        class_mode='categorical',\n",
    "        shuffle=False\n",
    "    )"
   ]
  },
  {
   "cell_type": "code",
   "execution_count": null,
   "id": "3ccafdd2-4297-411b-8b27-d4f1f31e9335",
   "metadata": {},
   "outputs": [],
   "source": [
    "base_model = VGG19(weights='imagenet',include_top=False,input_shape=(128,128,3))\n",
    "base_model.trainable=True"
   ]
  },
  {
   "cell_type": "code",
   "execution_count": null,
   "id": "04182df7-aeff-42d5-b654-b65755ace3e5",
   "metadata": {},
   "outputs": [],
   "source": [
    "num_classes=8\n",
    "\n",
    "#inputs=base_model.input\n",
    "#inputs = tf.keras.Input(shape=(128,128,3)) #Define input\n",
    "x = base_model.output#(inputs,training=False)     #pass input to base model\n",
    "x = GlobalAveragePooling2D()(x)\n",
    "x = Dense(1024, activation='relu')(x)\n",
    "predictions = Dense(num_classes, activation='softmax')(x)\n",
    "\n",
    "model = Model(inputs=base_model.input,outputs=predictions)  #Create model\n",
    "model.compile(optimizer=Adam(learning_rate=0.00001),loss='categorical_crossentropy',metrics=['accuracy'])"
   ]
  },
  {
   "cell_type": "code",
   "execution_count": null,
   "id": "f2b88bdb-2b28-4573-8dd6-8e63581db6ad",
   "metadata": {},
   "outputs": [],
   "source": [
    "model.summary()"
   ]
  },
  {
   "cell_type": "code",
   "execution_count": null,
   "id": "49562d00-8167-4282-b3bf-4d347428e1ef",
   "metadata": {},
   "outputs": [],
   "source": [
    "epochs=10\n",
    "training_history=model.fit(train_generator,epochs=epochs,validation_data=validation_generator)"
   ]
  },
  {
   "cell_type": "code",
   "execution_count": null,
   "id": "67f6335a-2c6f-4392-a373-fd8dfc8353fb",
   "metadata": {},
   "outputs": [],
   "source": []
  }
 ],
 "metadata": {
  "kernelspec": {
   "display_name": "Python 3 (ipykernel)",
   "language": "python",
   "name": "python3"
  },
  "language_info": {
   "codemirror_mode": {
    "name": "ipython",
    "version": 3
   },
   "file_extension": ".py",
   "mimetype": "text/x-python",
   "name": "python",
   "nbconvert_exporter": "python",
   "pygments_lexer": "ipython3",
   "version": "3.12.3"
  }
 },
 "nbformat": 4,
 "nbformat_minor": 5
}
